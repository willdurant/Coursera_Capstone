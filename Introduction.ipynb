{
 "cells": [
  {
   "cell_type": "markdown",
   "id": "5e92d9ab-c230-46e7-97f6-1f134d7e945d",
   "metadata": {},
   "source": [
    "# Introduction/Business Problem"
   ]
  },
  {
   "cell_type": "markdown",
   "id": "e706e0cb-6f78-480e-9d52-afae42e7f5f8",
   "metadata": {},
   "source": [
    "Buckinghamshire is a county in England north-west of Greater London. The local authority for the county is Buckinghamshire Council. The Council has a public health department, responsible for improving the overall health of its population."
   ]
  },
  {
   "cell_type": "markdown",
   "id": "75d75daa-0288-4e79-8465-b647b379bcbd",
   "metadata": {},
   "source": [
    "The department has funding to build and run a fitness and nutrition centre to encourage exercise and healthier diets, which in turn will prevent poor health. The department wishes to locate the most appropriate location for this fitness and nutrition centre. The criteria for finding the most appropriate location should take into account rates of obesity, poverty and the presence of services that encourage healthy or less-healthy behaviours."
   ]
  },
  {
   "cell_type": "markdown",
   "id": "92d856cf-9b52-4a2b-bd91-30240ae6a920",
   "metadata": {},
   "source": [
    "# Data"
   ]
  },
  {
   "cell_type": "markdown",
   "id": "064d00fd-9500-4b81-836c-3dab121cdf4d",
   "metadata": {},
   "source": [
    "For this problem, I will define a location using the ‘ward’ boundaries across Buckinghamshire. Wards are small geographical regions that each represent a neighbourhood. I will be using three datasets that will help me identify a shortlist for the most appropriate location, or ward, for the fitness and nutrition centre."
   ]
  },
  {
   "cell_type": "markdown",
   "id": "637c3dbd-4e5a-4e73-96c6-c7721593db0e",
   "metadata": {},
   "source": [
    "The first dataset I will use can be found using Public Health England’s Fingertips API and covers the Index of Multiple Deprivation (IMD) score for each ward in England, which is a measure of poverty. The higher the IMD score, the higher prevalence of poverty there is in a ward."
   ]
  },
  {
   "cell_type": "markdown",
   "id": "589fe7b0-4c07-4436-b44a-fa951b97a28e",
   "metadata": {},
   "source": [
    "The second dataset I will use is the rate of obesity among Year 6 age children by ward, which is also provided by the Fingertips API. Currently there is no publicly-available measure for obesity among adults at ward level, so this is the next most relevant proxy for measuring obesity."
   ]
  },
  {
   "cell_type": "markdown",
   "id": "dd37cfbb-d74f-4011-9319-161571998c35",
   "metadata": {},
   "source": [
    "The third dataset I will use will be provided by the Foursquare API. This will be used to identify the presence of services that encourage healthy behaviours, such as gyms or leisure centres, and services that encourage less-healthy behaviours, such as fast-food restaurants."
   ]
  },
  {
   "cell_type": "markdown",
   "id": "93b5e816-815b-47a7-8579-a155484a4df2",
   "metadata": {},
   "source": [
    "Using this data, I will group all wards in Buckinghamshire using k-means clustering, with the idea that the clusters produced may be able to provide a shortlist of potential locations for the centre. According to this approach, the most ideal location for the centre would be a ward from a cluster that has a relatively high average IMD score, high average rate of obesity among Year 6 age children, with few healthy services and a high number of unhealthy services."
   ]
  }
 ],
 "metadata": {
  "kernelspec": {
   "display_name": "Python",
   "language": "python",
   "name": "conda-env-python-py"
  },
  "language_info": {
   "codemirror_mode": {
    "name": "ipython",
    "version": 3
   },
   "file_extension": ".py",
   "mimetype": "text/x-python",
   "name": "python",
   "nbconvert_exporter": "python",
   "pygments_lexer": "ipython3",
   "version": "3.6.13"
  }
 },
 "nbformat": 4,
 "nbformat_minor": 5
}
